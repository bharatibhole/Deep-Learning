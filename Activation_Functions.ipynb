{
  "nbformat": 4,
  "nbformat_minor": 0,
  "metadata": {
    "colab": {
      "name": "Activation_Functions.ipynb",
      "provenance": [],
      "authorship_tag": "ABX9TyMPNHDh1Xyj/ZxFqrpywSsQ",
      "include_colab_link": true
    },
    "kernelspec": {
      "name": "python3",
      "display_name": "Python 3"
    }
  },
  "cells": [
    {
      "cell_type": "markdown",
      "metadata": {
        "id": "view-in-github",
        "colab_type": "text"
      },
      "source": [
        "<a href=\"https://colab.research.google.com/github/bharatibhole/Deep-Learning/blob/master/Activation_Functions.ipynb\" target=\"_parent\"><img src=\"https://colab.research.google.com/assets/colab-badge.svg\" alt=\"Open In Colab\"/></a>"
      ]
    },
    {
      "cell_type": "code",
      "metadata": {
        "id": "i5CxJDEeTzCm",
        "colab_type": "code",
        "colab": {
          "base_uri": "https://localhost:8080/",
          "height": 35
        },
        "outputId": "179b3ca9-3d07-4ffe-cb41-a3142109530c"
      },
      "source": [
        "import numpy as np\n",
        "x=np.array([1,1.4,2.5])\n",
        "w=np.array([0.4,0.3,0.5])\n",
        "def net_input(x,w):\n",
        "    return np.dot(x,w)\n",
        "def logistic(z):\n",
        "    return 1.0/ (1.0+np.exp(-z))\n",
        "def logistic_activation(x,w):\n",
        "    z=net_input(x,w)\n",
        "    return logistic(z)\n",
        "print('P(y=1|x)=%0.3f' % logistic_activation(x,w))"
      ],
      "execution_count": null,
      "outputs": [
        {
          "output_type": "stream",
          "text": [
            "P(y=1|x)=0.888\n"
          ],
          "name": "stdout"
        }
      ]
    }
  ]
}